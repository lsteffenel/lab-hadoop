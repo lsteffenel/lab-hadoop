{
 "cells": [
  {
   "cell_type": "markdown",
   "metadata": {},
   "source": [
    "## Introduction à HDFS\n",
    "\n",
    "Dans cet exercice vous allez apprendre à manipuler le système de fichiers HDFS. \n",
    "\n",
    "HDFS est l'un des éléments de base de Hadoop, car il coordonne le stockage et la distribution des données dans les différents noeuds d'un cluster Hadoop, permettant ainsi aux applications (MapReduce, Spark, etc.) de se concentrer sur le traitement des données.\n",
    "\n",
    "* ATTENTION : les données stockées sur HDFS ne sont pas directement accessibles par le shell, il faut passer par une application (*hadoop fs*). Vous pouvez comparer cela au stockage de fichiers dans un serveur distant et son accès avec *ssh* et *scp/sftp*."
   ]
  },
  {
   "cell_type": "markdown",
   "metadata": {},
   "source": [
    "### Petite note à propos de cet environnement Jupyter\n",
    "\n",
    "Les \"paragraphes\" sont censés exécuter des commandes en python. Comme dans cet exercice nous allons utiliser des commandes shell, il faudra toujours utiliser un **!** (point d'exclamation) avant les commandes.\n",
    "\n",
    "Par exemple **\"! hadoop dfs -ls\"**\n",
    "\n"
   ]
  },
  {
   "cell_type": "markdown",
   "metadata": {},
   "source": [
    "### Par où on commence ?\n",
    "\n",
    "Ces exercices se trouvent dans une machine virtuelle où chacun est le seul utilisateur. Utilisez les commandes **ls**, **pwd**, pour vous localiser dans le *home* de votre machine.\n",
    "\n",
    "* certaines commandes de base du shell (ls, cat, rm) n'ont pas besoin de l'exclamation. À l'inverse, la commande **cd** doit obligatoirement utiliser un percent (**%cd**). Dans le doute, il sera plus simple de précéder ces commandes de base avec %. "
   ]
  },
  {
   "cell_type": "code",
   "execution_count": null,
   "metadata": {},
   "outputs": [],
   "source": [
    "! ls"
   ]
  },
  {
   "cell_type": "code",
   "execution_count": null,
   "metadata": {},
   "outputs": [],
   "source": [
    "! pwd"
   ]
  },
  {
   "cell_type": "code",
   "execution_count": null,
   "metadata": {},
   "outputs": [],
   "source": [
    "! ls -lh ~/resources/datasets/"
   ]
  },
  {
   "cell_type": "markdown",
   "metadata": {},
   "source": [
    "On voit déjà quelques *datasets*, mais ce n'est pas ce qu'on souhaite pour ce TP (on les utilisera autre fois). \n",
    "On va donc télécharger un dataset qui contient un sous-ensemble de livres issus du [Projet Gutenberg](source : https://web.eecs.umich.edu/~lahiri/gutenberg_dataset.html)."
   ]
  },
  {
   "cell_type": "code",
   "execution_count": null,
   "metadata": {},
   "outputs": [],
   "source": [
    "! wget http://cosy.univ-reims.fr/~lsteffenel/cours/Master2/RT0902-BigData/Gutenberg.tar.gz"
   ]
  },
  {
   "cell_type": "code",
   "execution_count": null,
   "metadata": {},
   "outputs": [],
   "source": [
    "! tar -xvzf Gutenberg.tar.gz"
   ]
  },
  {
   "cell_type": "code",
   "execution_count": null,
   "metadata": {},
   "outputs": [],
   "source": [
    "! mv Gutenberg ~/resources/datasets\n",
    "! rm Gutenberg.tar.gz"
   ]
  },
  {
   "cell_type": "code",
   "execution_count": null,
   "metadata": {},
   "outputs": [],
   "source": [
    "! head -10 ~/resources/datasets/Gutenberg/txt/Charles_Darwin___On_the_Origin_of_Species_1st_Edition.txt"
   ]
  },
  {
   "cell_type": "markdown",
   "metadata": {},
   "source": [
    "Maintenant qu'on a notre *dataset* dans le répertoire `/home/jovyan/resources/datasets`, il faudra le stocker dans HDFS avant de procéder à leur analyse.\n",
    "\n",
    "Tout d'abord, nous allons créer un répertoire dans HDFS afin de déposer ces fichiers. \n",
    "\n",
    "HDFS est organisé \"presque\" comme un répertoire Linux (plus exactement, il suit le standard POSIX). Les fichiers d'un utilisateur se retrouvent donc sous le répertoire `/user/`, comme vous pouvez voir ci-dessous : "
   ]
  },
  {
   "cell_type": "code",
   "execution_count": null,
   "metadata": {},
   "outputs": [],
   "source": [
    "! hdfs dfs -ls /"
   ]
  },
  {
   "cell_type": "code",
   "execution_count": null,
   "metadata": {},
   "outputs": [],
   "source": [
    "! hdfs dfs -ls /user"
   ]
  },
  {
   "cell_type": "code",
   "execution_count": null,
   "metadata": {},
   "outputs": [],
   "source": [
    "! hdfs dfs -ls /user/$USER"
   ]
  },
  {
   "cell_type": "markdown",
   "metadata": {},
   "source": [
    "Bien sûr, pour le moment le répertoire `/user/jovyan` est vide (la variable `$USER` retourne le nom de l'utilisateur par défaut dans Jupyter).\n",
    "\n",
    "On voit aussi que, pour accéder à HDFS, nous devons utiliser la commande `hdfs dfs`\n",
    "\n",
    "Commençons par créer un répertoire pour notre dataset de livres :"
   ]
  },
  {
   "cell_type": "code",
   "execution_count": null,
   "metadata": {},
   "outputs": [],
   "source": [
    "! hdfs dfs -mkdir /user/$USER/livres"
   ]
  },
  {
   "cell_type": "markdown",
   "metadata": {},
   "source": [
    "Ensuite, nous allons copier les fichiers du répertoire `~/resources/datasets/Gutenberg/txt/` dans le répertoire `/user/jovyan/livres` grâce à la commande **hfds dfs --put** : \n",
    "\n",
    "* Attention, ça prend un peu de temps..."
   ]
  },
  {
   "cell_type": "code",
   "execution_count": null,
   "metadata": {},
   "outputs": [],
   "source": [
    "! hdfs dfs -put ~/resources/datasets/Gutenberg/txt/* /user/$USER/livres/"
   ]
  },
  {
   "cell_type": "code",
   "execution_count": null,
   "metadata": {},
   "outputs": [],
   "source": [
    "! hdfs dfs -ls -h /user/$USER/livres/"
   ]
  },
  {
   "cell_type": "markdown",
   "metadata": {},
   "source": [
    "Si on n'indique pas le chemin absolu, hdfs utilisera automatiquement le sous-répertoire relatif à l'utilisateur : "
   ]
  },
  {
   "cell_type": "code",
   "execution_count": null,
   "metadata": {},
   "outputs": [],
   "source": [
    "! hdfs dfs -ls -h livres/"
   ]
  },
  {
   "cell_type": "markdown",
   "metadata": {},
   "source": [
    "Et voilà, le dataset se trouve dans HDFS. Avant de traiter les fichiers, nous pouvons regarder quelques autres commandes pour les manipuler.\n",
    "\n",
    "Tout d'abord, on peut afficher le contenu d'un fichier avec l'option `-cat`: "
   ]
  },
  {
   "cell_type": "code",
   "execution_count": null,
   "metadata": {},
   "outputs": [],
   "source": [
    "! hdfs dfs -cat livres/Charles_Darwin___On_the_Origin_of_Species_1st_Edition.txt | head -n 10"
   ]
  },
  {
   "cell_type": "markdown",
   "metadata": {},
   "source": [
    "En effet, on peut faire le pipeline entre la sortie de `hdfs dfs -cat` et d'autres commandes Linux telles que `head`, `tail`, `grep`, ... "
   ]
  },
  {
   "cell_type": "markdown",
   "metadata": {},
   "source": [
    "### Récupérer un fichier à partir de HDFS\n",
    "\n",
    "On a bien utilisé l'option `-put` pour mettre notre dataset dans HDFS. Souvent, le résultat d'un traitement (avec MapReduce, par exemple) sera aussi stocké dans HDFS. Dans ce cas, on peut le récupérer et copier dans notre \"disque local\" avec l'option `-get` :"
   ]
  },
  {
   "cell_type": "code",
   "execution_count": null,
   "metadata": {},
   "outputs": [],
   "source": [
    "! hdfs dfs -get livres/Charles_Darwin___On_the_Origin_of_Species_1st_Edition.txt"
   ]
  },
  {
   "cell_type": "code",
   "execution_count": null,
   "metadata": {},
   "outputs": [],
   "source": [
    "# le fichier se trouve dans notre répertoire courant\n",
    "! ls\n",
    "\n"
   ]
  },
  {
   "cell_type": "markdown",
   "metadata": {},
   "source": [
    "### HDFS est fait, passons à Hadoop\n",
    "\n",
    "Vous avez injecté le dataset dans HDFS. Maintenant, on va regarder dans le prochain notebook ([2-IntroMapReduce](./2-IntroHadoopMR.ipynb)) comment l'application `WordCount` est écrite en Java (et comment la compiler et exécuter), pour plus tard effectuer la même chose avec Python."
   ]
  },
  {
   "cell_type": "code",
   "execution_count": null,
   "metadata": {},
   "outputs": [],
   "source": []
  }
 ],
 "metadata": {
  "kernelspec": {
   "display_name": "Python 3",
   "language": "python",
   "name": "python3"
  },
  "language_info": {
   "codemirror_mode": {
    "name": "ipython",
    "version": 3
   },
   "file_extension": ".py",
   "mimetype": "text/x-python",
   "name": "python",
   "nbconvert_exporter": "python",
   "pygments_lexer": "ipython3",
   "version": "3.7.3"
  }
 },
 "nbformat": 4,
 "nbformat_minor": 4
}
