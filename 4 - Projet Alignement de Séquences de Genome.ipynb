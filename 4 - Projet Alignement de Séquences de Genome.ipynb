{
 "cells": [
  {
   "cell_type": "markdown",
   "metadata": {},
   "source": [
    "## Projet à rendre\n",
    "\n",
    "Cet exercice consistera à implémenter un compteur de séquences *K-mer* utilisant Hadoop. \n",
    "Conceptuellement, cela est très similaire au programme de comptage de mots, mais comme il n'y a pas d'espaces dans le génome humain, nous compterons les *k-mers* qui se chevauchent au lieu de mots discrets.\n",
    "\n",
    "Ainsi, si le genôme est  ACACACAGT, et nous considérons des séquences *3-mer*, votre fonction map affichera :\n",
    "\n",
    "* ACA   1\n",
    "* CAC   1\n",
    "* ACA   1\n",
    "* CAC   1\n",
    "* ACA   1\n",
    "* CAG   1\n",
    "* AGT   1\n",
    "\n",
    "Après un tri, cet affichage sera :\n",
    "\n",
    "* ACA 1\n",
    "* ACA 1\n",
    "* ACA 1\n",
    "* CAC 1\n",
    "* CAC 1\n",
    "* CAG 1\n",
    "* AGT 1\n",
    "\n",
    "Et votre reducer affichera:\n",
    "\n",
    "* ACA 3\n",
    "* CAC 2\n",
    "* CAG 1\n",
    "* AGT 1\n",
    "\n",
    "Vous pouvez l'implémenter en Java, en utilisant le programme WordCount comme exemple, ou vous pouvez utiliser Hadoop Streaming pour l'implémenter dans la langue de votre choix.\n",
    "\n"
   ]
  },
  {
   "cell_type": "markdown",
   "metadata": {},
   "source": [
    "En plus du code source, vous devez répondre à la question : \n",
    "    * Quels sont les 10 séquences *9-mers* les plus fréquentes dans la bactérie E coli ?\n",
    "    \n",
    "    Utilisez le dataset qui se trouve resources/datasets/ecoli"
   ]
  },
  {
   "cell_type": "code",
   "execution_count": null,
   "metadata": {},
   "outputs": [],
   "source": []
  }
 ],
 "metadata": {
  "kernelspec": {
   "display_name": "Python 3",
   "language": "python",
   "name": "python3"
  },
  "language_info": {
   "codemirror_mode": {
    "name": "ipython",
    "version": 3
   },
   "file_extension": ".py",
   "mimetype": "text/x-python",
   "name": "python",
   "nbconvert_exporter": "python",
   "pygments_lexer": "ipython3",
   "version": "3.7.3"
  }
 },
 "nbformat": 4,
 "nbformat_minor": 2
}
