{
 "cells": [
  {
   "cell_type": "markdown",
   "metadata": {},
   "source": [
    "## Projet à rendre\n",
    "\n",
    "Cet exercice consistera à implémenter un compteur de séquences *K-mer* utilisant Hadoop. \n",
    "Conceptuellement, cela est très similaire au programme de comptage de mots, mais comme il n'y a pas d'espaces dans le génome humain, nous compterons les *k-mers* qui se chevauchent au lieu de mots discrets.\n",
    "\n",
    "Ainsi, si le genôme est  ACACACAGT, et nous considérons des séquences *3-mer*, votre fonction map affichera :\n",
    "\n",
    "* ACA   1\n",
    "* CAC   1\n",
    "* ACA   1\n",
    "* CAC   1\n",
    "* ACA   1\n",
    "* CAG   1\n",
    "* AGT   1\n",
    "\n",
    "Après un tri, cet affichage sera :\n",
    "\n",
    "* ACA 1\n",
    "* ACA 1\n",
    "* ACA 1\n",
    "* CAC 1\n",
    "* CAC 1\n",
    "* CAG 1\n",
    "* AGT 1\n",
    "\n",
    "Et votre reducer affichera:\n",
    "\n",
    "* ACA 3\n",
    "* CAC 2\n",
    "* CAG 1\n",
    "* AGT 1\n",
    "\n",
    "Vous pouvez l'implémenter en Java, en utilisant le programme WordCount comme exemple, ou vous pouvez utiliser Hadoop Streaming pour l'implémenter dans la langue de votre choix.\n",
    "\n"
   ]
  },
  {
   "cell_type": "markdown",
   "metadata": {},
   "source": [
    "# Quoi, Quand et Comment\n",
    "\n",
    "### Quoi : \n",
    "* le code source que vous avez produit\n",
    "* une liste avec les 10 séquences *9-mers* les plus fréquentes dans la bactérie *E. coli* (utilisez le dataset qui se trouve resources/datasets/ecoli)\n",
    "\n",
    "\n",
    "### Quand : \n",
    "\n",
    "Au plus tard le 16 octobre 2020 (inclus).\n",
    "\n",
    "### Comment : \n",
    "\n",
    "Un fichier zip avec le \"quoi\", déposé sur l'espace \"devoir\" du Bureau Virtuel."
   ]
  },
  {
   "cell_type": "code",
   "execution_count": null,
   "metadata": {},
   "outputs": [],
   "source": []
  }
 ],
 "metadata": {
  "kernelspec": {
   "display_name": "Python 3",
   "language": "python",
   "name": "python3"
  },
  "language_info": {
   "codemirror_mode": {
    "name": "ipython",
    "version": 3
   },
   "file_extension": ".py",
   "mimetype": "text/x-python",
   "name": "python",
   "nbconvert_exporter": "python",
   "pygments_lexer": "ipython3",
   "version": "3.7.3"
  }
 },
 "nbformat": 4,
 "nbformat_minor": 2
}
